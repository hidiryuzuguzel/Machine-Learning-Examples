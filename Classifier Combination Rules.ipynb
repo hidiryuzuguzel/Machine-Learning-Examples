{
 "cells": [
  {
   "cell_type": "markdown",
   "metadata": {},
   "source": [
    "## Load data"
   ]
  },
  {
   "cell_type": "code",
   "execution_count": null,
   "metadata": {},
   "outputs": [],
   "source": [
    "load('MEGdata.mat')  "
   ]
  },
  {
   "cell_type": "markdown",
   "metadata": {},
   "source": [
    "## Split data into training/testing"
   ]
  },
  {
   "cell_type": "code",
   "execution_count": null,
   "metadata": {},
   "outputs": [],
   "source": [
    "N = size(VideoClass,1);     % Number of samples\n",
    "Ntrain = 400;\n",
    "\n",
    "idx = randperm(N);      \n",
    "trndata = double( MEGdata(idx(1:Ntrain),:,:));\n",
    "trnclass = double ( VideoClass(idx(1:Ntrain)));\n",
    "\n",
    "NumOfClasses = length(unique(trnclass));\n",
    "\n",
    "testdata = double( MEGdata(idx(Ntrain+1:end),:,:) );\n",
    "testclass = double( VideoClass(idx(Ntrain+1:end)));"
   ]
  },
  {
   "cell_type": "markdown",
   "metadata": {},
   "source": [
    "## Feature extraction\n",
    "- Mean and variance from 204 channels"
   ]
  },
  {
   "cell_type": "code",
   "execution_count": null,
   "metadata": {},
   "outputs": [],
   "source": [
    "trn_feature = [mean(trndata,3) var(trndata,0,3)];\n",
    "test_feature = [mean(testdata,3) var(testdata,0,3)];"
   ]
  },
  {
   "cell_type": "markdown",
   "metadata": {},
   "source": [
    "## Logistic Regression\n",
    "- Matlab doesn't seem work\n",
    " * B = mnrfit(trn_feature, trnclass);\n",
    " * pihat_LR = mnrval(B,test_feature);\n",
    "- Thus, we use glmnet toolbox"
   ]
  },
  {
   "cell_type": "code",
   "execution_count": null,
   "metadata": {},
   "outputs": [],
   "source": [
    "fitglmnet = cvglmnet(trn_feature,trnclass,'multinomial');\n",
    "pihat_LR = glmnetPredict(fitglmnet.glmnet_fit,test_feature,fitglmnet.lambda_min,'response');\n",
    "[~,LR_predicted_class] = max(pihat_LR,[],2);\n",
    "LR_pred_rate = sum(testclass == LR_predicted_class)./length(testclass)"
   ]
  },
  {
   "cell_type": "markdown",
   "metadata": {},
   "source": [
    "## Neural Network"
   ]
  },
  {
   "cell_type": "code",
   "execution_count": null,
   "metadata": {},
   "outputs": [],
   "source": [
    "% One-hot encoder\n",
    "trnclasshat = zeros(Ntrain,NumOfClasses);\n",
    "for i=1:Ntrain\n",
    "    trnclasshat(i,trnclass(i)) = 1;\n",
    "end\n",
    "net = patternnet(10);\n",
    "net = train(net,trn_feature',trnclasshat');\n",
    "%view(net)\n",
    "pihat_NN = net(test_feature');\n",
    "pihat_NN = pihat_NN';\n",
    "[~,NN_predicted_class] = max(pihat_NN,[],2);\n",
    "NN_pred_rate = sum(testclass == NN_predicted_class)./length(testclass)"
   ]
  },
  {
   "cell_type": "markdown",
   "metadata": {},
   "source": [
    "## Naive-bayesian (NB) classifier with Gaussian data distribution"
   ]
  },
  {
   "cell_type": "code",
   "execution_count": null,
   "metadata": {},
   "outputs": [],
   "source": [
    "nb = NaiveBayes.fit(trn_feature, trnclass);\n",
    "pihat_NB = posterior(nb,test_feature);\n",
    "NB_predicted_class = predict(nb, test_feature);\n",
    "NB_pred_rate = sum(testclass == NB_predicted_class)./length(testclass)"
   ]
  },
  {
   "cell_type": "markdown",
   "metadata": {},
   "source": [
    "## Combining classifiers by averaging"
   ]
  },
  {
   "cell_type": "code",
   "execution_count": null,
   "metadata": {},
   "outputs": [],
   "source": [
    "% sum\n",
    "pihat_sum = pihat_NN + pihat_NB+ pihat_LR;\n",
    "pihat_sum = bsxfun(@rdivide, pihat_sum, sum(pihat_sum,2));\n",
    "[~,predicted_class_sum] = max(pihat_sum,[],2);\n",
    "% pred_rate_sum = sum(testclass == predicted_class_sum)./length(testclass)"
   ]
  },
  {
   "cell_type": "code",
   "execution_count": null,
   "metadata": {},
   "outputs": [],
   "source": [
    "% product\n",
    "pihat_product = pihat_NN .* pihat_NB .*pihat_LR;\n",
    "pihat_product = bsxfun(@rdivide, pihat_product, sum(pihat_product,2));\n",
    "[~,predicted_class_product] = max(pihat_product,[],2);\n",
    "% pred_rate_product = sum(testclass == predicted_class_product)./length(testclass)"
   ]
  },
  {
   "cell_type": "code",
   "execution_count": null,
   "metadata": {},
   "outputs": [],
   "source": [
    "% max\n",
    "pihat_max = max(cat(3,pihat_NN,pihat_NB,pihat_LR),[],3);\n",
    "pihat_max = bsxfun(@rdivide, pihat_max, sum(pihat_max,2));\n",
    "[~,predicted_class_max] = max(pihat_max,[],2);\n",
    "% pred_rate_max = sum(testclass == predicted_class_max)./length(testclass)"
   ]
  },
  {
   "cell_type": "code",
   "execution_count": null,
   "metadata": {},
   "outputs": [],
   "source": [
    "SumAccuracy = mean(predicted_class_sum==testclass)\n",
    "ProductAccuracy = mean(predicted_class_product==testclass)\n",
    "MaxAccuracy = mean(predicted_class_max==testclass)"
   ]
  }
 ],
 "metadata": {
  "kernelspec": {
   "display_name": "Matlab",
   "language": "matlab",
   "name": "matlab"
  },
  "language_info": {
   "codemirror_mode": "octave",
   "file_extension": ".m",
   "help_links": [
    {
     "text": "MetaKernel Magics",
     "url": "https://github.com/calysto/metakernel/blob/master/metakernel/magics/README.md"
    }
   ],
   "mimetype": "text/x-octave",
   "name": "matlab",
   "version": "0.15.2"
  }
 },
 "nbformat": 4,
 "nbformat_minor": 2
}
