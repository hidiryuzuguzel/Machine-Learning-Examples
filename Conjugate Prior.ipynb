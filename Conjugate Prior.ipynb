{
 "cells": [
  {
   "cell_type": "markdown",
   "metadata": {},
   "source": [
    "# Posterior probability using Normal distribution in conjugate bayesian framework\n",
    "\n",
    "- For more information, check http://en.wikipedia.org/wiki/Conjugate_prior"
   ]
  },
  {
   "cell_type": "markdown",
   "metadata": {},
   "source": [
    "## Load data"
   ]
  },
  {
   "cell_type": "code",
   "execution_count": 1,
   "metadata": {},
   "outputs": [
    {
     "name": "stdout",
     "output_type": "stream",
     "text": [
      "\n"
     ]
    }
   ],
   "source": [
    "load('DOAdata.mat','DOAs')"
   ]
  },
  {
   "cell_type": "code",
   "execution_count": 2,
   "metadata": {},
   "outputs": [
    {
     "name": "stdout",
     "output_type": "stream",
     "text": [
      "\n",
      "p_test =\n",
      "\n",
      "    0.0627\n",
      "\n",
      "\n"
     ]
    }
   ],
   "source": [
    "n = size(DOAs,1);   % number of observations\n",
    "d = size(DOAs,2);   % number of dimension\n",
    "\n",
    "mu0 = [27.4 62.1];\n",
    "sigma0 = [2.47 0.97;0.97 0.75];\n",
    "\n",
    "sigma = cov(DOAs);  % estimated covariance matrix from data\n",
    "xx = mean(DOAs,1);  % sample mean\n",
    "\n",
    "mu_post = inv(inv(sigma0)+n*inv(sigma))*(inv(sigma0)*mu0'+n*inv(sigma)*xx');\n",
    "sigma_post = inv(inv(sigma0)+n*inv(sigma)) + sigma;\n",
    "\n",
    "doa_test = [26.0 61.0]'; \n",
    "nu0 = 1000;     % large number\n",
    "df = nu0 + n - d + 1;\n",
    "alpha = df;\n",
    "lambda = inv(sigma_post);\n",
    "\n",
    "% multivariate student distribution (Eqn. 3.20 Webb-Copsey page:81))\n",
    "p_test = gammaln(0.5*(alpha+d)) - gammaln(alpha/2) - (d/2)*log(alpha*pi) + ...\n",
    "    0.5*log(det(lambda)) - ((alpha+d)/2)* log(1+(1/alpha)*(doa_test-mu_post)'*lambda*(doa_test-mu_post));\n",
    "\n",
    "p_test = exp(p_test)   % p_test = 0.0627"
   ]
  }
 ],
 "metadata": {
  "kernelspec": {
   "display_name": "Matlab",
   "language": "matlab",
   "name": "matlab"
  },
  "language_info": {
   "codemirror_mode": "octave",
   "file_extension": ".m",
   "help_links": [
    {
     "text": "MetaKernel Magics",
     "url": "https://github.com/calysto/metakernel/blob/master/metakernel/magics/README.md"
    }
   ],
   "mimetype": "text/x-octave",
   "name": "matlab",
   "version": "0.15.2"
  }
 },
 "nbformat": 4,
 "nbformat_minor": 2
}
