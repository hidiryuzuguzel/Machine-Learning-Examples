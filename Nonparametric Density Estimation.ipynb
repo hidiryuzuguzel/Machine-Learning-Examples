{
 "cells": [
  {
   "cell_type": "markdown",
   "metadata": {},
   "source": [
    "## Load data"
   ]
  },
  {
   "cell_type": "code",
   "execution_count": 1,
   "metadata": {},
   "outputs": [
    {
     "name": "stdout",
     "output_type": "stream",
     "text": [
      "\n"
     ]
    }
   ],
   "source": [
    "clear all;\n",
    "load('PDFestimateData','data');"
   ]
  },
  {
   "cell_type": "code",
   "execution_count": 2,
   "metadata": {},
   "outputs": [
    {
     "name": "stdout",
     "output_type": "stream",
     "text": [
      "\n"
     ]
    }
   ],
   "source": [
    "N = size(data,2);       % # of samples\n",
    "xmin = -5;\n",
    "xmax = 15;\n",
    "x = xmin:0.1:xmax;          % Points where we want to estimate the PDF"
   ]
  },
  {
   "cell_type": "markdown",
   "metadata": {},
   "source": [
    "## 1D-kNN density estimator"
   ]
  },
  {
   "cell_type": "code",
   "execution_count": 3,
   "metadata": {},
   "outputs": [
    {
     "name": "stdout",
     "output_type": "stream",
     "text": [
      "\n"
     ]
    }
   ],
   "source": [
    "% Fix k\n",
    "k = 75;     % A suitable kernel size\n",
    "\n",
    "% k-NN formula: phat(x) = k/(n*V)\n",
    "% k-NN estimation\n",
    "phat_knn = zeros(1,length(x));\n",
    "\n",
    "for I=1:length(x)\n",
    "    \n",
    "    % compute distance from x(I) to the trainingData points\n",
    "    distance = abs(x(I)-data);\n",
    "    % sort\n",
    "    sorted = sort(distance);\n",
    "    % Choose the k'th farthest sample from x(I), and compute V\n",
    "    V = 2*sorted(k);\n",
    "    phat_knn(I) = k/(N*V);\n",
    "end"
   ]
  },
  {
   "cell_type": "markdown",
   "metadata": {},
   "source": [
    "## Histogram estimator"
   ]
  },
  {
   "cell_type": "code",
   "execution_count": 4,
   "metadata": {},
   "outputs": [
    {
     "name": "stdout",
     "output_type": "stream",
     "text": [
      "\n"
     ]
    }
   ],
   "source": [
    "h = 1;      % suitable bin size\n",
    "M = (xmax - xmin)/h;\n",
    "dataInBins = zeros(M,1);\n",
    "phat_histogram = zeros(1,length(x));\n",
    "\n",
    "  \n",
    "for n=1:N\n",
    "    for m=0:M-1\n",
    "        if (data(n)>=-5+h*m && data(n)<-4+h*m)\n",
    "            dataInBins(m+1) = dataInBins(m+1) + 1;\n",
    "        end\n",
    "    end\n",
    "end\n",
    "\n",
    "for I=1:length(x)\n",
    "     for m=0:M-1\n",
    "        if (x(I)>=-5+h*m && x(I)<-4+h*m)\n",
    "            phat_histogram(I) = dataInBins(m+1)/N*h;\n",
    "        end\n",
    "     end\n",
    "end"
   ]
  },
  {
   "cell_type": "markdown",
   "metadata": {},
   "source": [
    "## Kernel Method/Parzen Windows"
   ]
  },
  {
   "cell_type": "code",
   "execution_count": 5,
   "metadata": {},
   "outputs": [
    {
     "name": "stdout",
     "output_type": "stream",
     "text": [
      "\n"
     ]
    }
   ],
   "source": [
    "K = @(z) 1/sqrt(2*pi)*exp(-z^2/2);  % gaussian kernel\n",
    "% TODO: It is not correct\n",
    "%K = @(z) 0.25*(sign(z+0.5)-sign(z-0.5))    \n",
    "%smoothingparam = 0.5;   % reasonable kernel function spread (\\sigma)\n",
    "sigmahat = std(data);\n",
    "smoothingparam = 1.06*sigmahat*N^(-1/5);\n",
    "phat_parzen = zeros(1,length(x));\n",
    "\n",
    "for I=1:length(x)\n",
    "    SumOfKernels = 0;\n",
    "    for i=1:N\n",
    "        SumOfKernels = SumOfKernels + K((x(I)-data(i))/smoothingparam);\n",
    "    end\n",
    "    phat_parzen(I) = SumOfKernels/(smoothingparam*N);\n",
    "end"
   ]
  },
  {
   "cell_type": "markdown",
   "metadata": {},
   "source": [
    "## Matlab Built-in Function"
   ]
  },
  {
   "cell_type": "code",
   "execution_count": 6,
   "metadata": {},
   "outputs": [
    {
     "name": "stdout",
     "output_type": "stream",
     "text": [
      "\n"
     ]
    }
   ],
   "source": [
    "[phat_parzen_matlab,~,bw] = ksdensity(data,x,'bandwidth',smoothingparam);"
   ]
  },
  {
   "cell_type": "markdown",
   "metadata": {},
   "source": [
    "## Gaussian pdf"
   ]
  },
  {
   "cell_type": "code",
   "execution_count": 7,
   "metadata": {},
   "outputs": [
    {
     "name": "stdout",
     "output_type": "stream",
     "text": [
      "\n"
     ]
    }
   ],
   "source": [
    "[mean_gaussian,sigma_gaussian] = normfit(data);\n",
    "phat_gaussian = normpdf(x,mean_gaussian,sigma_gaussian);    % MLE "
   ]
  },
  {
   "cell_type": "code",
   "execution_count": 8,
   "metadata": {},
   "outputs": [
    {
     "name": "stdout",
     "output_type": "stream",
     "text": [
      "\n"
     ]
    },
    {
     "data": {
      "image/png": "[encoded data removed]",
      "text/plain": [
       "<IPython.core.display.Image object>"
      ]
     },
     "metadata": {},
     "output_type": "display_data"
    }
   ],
   "source": [
    "%%\n",
    "figure('Name','Nonparametric density estimation','NumberTitle','off');\n",
    "%plot(data,0,'ko','markersize',10)\n",
    "hold on\n",
    "plot(x,phat_knn,'--r',x,phat_histogram,'-b',x,phat_parzen,'-og',x,phat_gaussian,'.c',x,phat_parzen_matlab,'k')\n",
    "legend('k-NN estimate','Histogram estimate','Parzen estimate','Gaussian estimate','Parzen estimate (MATLAB)')\n",
    "% plot(data,0,'ko','markersize',10)\n",
    "% hold on\n",
    "% plot(x,phat_knn,'--r')\n",
    "% plot(x,phat_histogram,'-b')\n",
    "% plot(x,phat_parzen,'-og')\n",
    "% plot(x,phat_gaussian,'.y')\n",
    "% hold off\n",
    "%legend('data','k-NN estimate','Histogram estimate','Parzen estimate','Gaussian estimate')"
   ]
  }
 ],
 "metadata": {
  "kernelspec": {
   "display_name": "Matlab",
   "language": "matlab",
   "name": "matlab"
  },
  "language_info": {
   "codemirror_mode": "octave",
   "file_extension": ".m",
   "help_links": [
    {
     "text": "MetaKernel Magics",
     "url": "https://github.com/calysto/metakernel/blob/master/metakernel/magics/README.md"
    }
   ],
   "mimetype": "text/x-octave",
   "name": "matlab",
   "version": "0.15.2"
  }
 },
 "nbformat": 4,
 "nbformat_minor": 2
}
