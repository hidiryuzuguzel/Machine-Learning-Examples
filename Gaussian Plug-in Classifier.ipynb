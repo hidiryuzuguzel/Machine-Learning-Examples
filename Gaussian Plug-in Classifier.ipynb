{
 "cells": [
  {
   "cell_type": "markdown",
   "metadata": {},
   "source": [
    "## Gaussian Distribution and Bayes-rule based plug-in classifier"
   ]
  },
  {
   "cell_type": "markdown",
   "metadata": {},
   "source": [
    "## Load data\n",
    "- MFCCfeatures.mat contains MFCC features from 2671 soundclips of pronounciations of 8 different vowels."
   ]
  },
  {
   "cell_type": "code",
   "execution_count": 1,
   "metadata": {},
   "outputs": [
    {
     "name": "stdout",
     "output_type": "stream",
     "text": [
      "\n"
     ]
    }
   ],
   "source": [
    "load('MFCCfeatures.mat','VowelClass','VowelFeatures')"
   ]
  },
  {
   "cell_type": "markdown",
   "metadata": {},
   "source": [
    "## Split the data into a training and test sets randomly (randperm) in proportions 90% and 10%."
   ]
  },
  {
   "cell_type": "code",
   "execution_count": 2,
   "metadata": {},
   "outputs": [
    {
     "name": "stdout",
     "output_type": "stream",
     "text": [
      "\n"
     ]
    }
   ],
   "source": [
    "p = randperm(size(VowelClass,1));\n",
    "\n",
    "trn_size = round(0.9*size(VowelFeatures,1));\n",
    "test_size = size(VowelFeatures,1) - trn_size;\n",
    "\n",
    "trn_data = VowelFeatures(p(1:trn_size),:);\n",
    "trn_class = VowelClass(p(1:trn_size)); \n",
    "trn_items = unique(trn_class);\n",
    "\n",
    "test_data = VowelFeatures(p(trn_size+1:end),:);\n",
    "test_class = VowelClass(p(trn_size+1:end)); \n",
    "test_items = unique(test_class);"
   ]
  },
  {
   "cell_type": "markdown",
   "metadata": {},
   "source": [
    "## Bayes-rule classifer with an assumption that each attribute is distributed according to Gaussian/Normal distribution."
   ]
  },
  {
   "cell_type": "code",
   "execution_count": 3,
   "metadata": {},
   "outputs": [
    {
     "name": "stdout",
     "output_type": "stream",
     "text": [
      "\n"
     ]
    }
   ],
   "source": [
    "D = size(VowelFeatures,2);  % number of dimension\n",
    "G = size(trn_items,1);      % number of classes\n",
    "\n",
    "priorhat = zeros(G,1);      % estimate of prior probability of each class\n",
    "muhat = zeros(G,D);         % estimate of mean vector for each class\n",
    "% sigmahat = zeros(D,D,G);  % estimate of covariance matrix for each class\n",
    "SIGhat = zeros(D,D,G);      % estimate of covariance matrix for each class\n",
    "% Make the covariance matrix more diagonal \n",
    "% for i=1:G\n",
    "%     SIGhat(:,:,i) = eye(D);\n",
    "% end\n",
    "\n",
    "% Training Phase\n",
    "for it=1:G\n",
    "    tmp_data = trn_data(trn_class==trn_items(it),:);    % training data per each class\n",
    "    priorhat(it) = size(tmp_data,1)/size(trn_data,1);\n",
    "    muhat(it,:) = mean(tmp_data,1);\n",
    "%     sigmahat(:,:,it) = cov(tmp_data);\n",
    "    for n=1:size(tmp_data,1)\n",
    "        SIGhat(:,:,it) =  SIGhat(:,:,it) + (tmp_data(n,:)-muhat(it,:))'*(tmp_data(n,:)-muhat(it,:));\n",
    "    end\n",
    "    SIGhat(:,:,it) = SIGhat(:,:,it)./size(tmp_data,1);\n",
    "end"
   ]
  },
  {
   "cell_type": "code",
   "execution_count": 4,
   "metadata": {},
   "outputs": [
    {
     "name": "stdout",
     "output_type": "stream",
     "text": [
      "\n",
      "error_rate_trn =\n",
      "\n",
      "   4.1597e-04\n",
      "\n",
      "\n"
     ]
    }
   ],
   "source": [
    "% Here, I just test the training data\n",
    "L = [];\n",
    "for i = 1:G\n",
    "    likelihood = mvnpdf(trn_data,muhat(i,:),SIGhat(:,:,i));\n",
    "    L = [L likelihood*priorhat(i)];\n",
    "end\n",
    "\n",
    "[~,decisions] = max(L,[],2);\n",
    "trn_class_predicted = trn_items(decisions);\n",
    "\n",
    "% computation of error rate (Training data)\n",
    "error_rate_trn = sum(trn_class~=trn_class_predicted)/size(trn_class,1)\n",
    "\n",
    "\n",
    "%test_class_predicted = char(size(test_class,1));"
   ]
  },
  {
   "cell_type": "code",
   "execution_count": 6,
   "metadata": {},
   "outputs": [
    {
     "name": "stdout",
     "output_type": "stream",
     "text": [
      "\n",
      "error_rate_test =\n",
      "\n",
      "     0\n",
      "\n",
      "\n"
     ]
    }
   ],
   "source": [
    "L = [];\n",
    "\n",
    "% Test Phase\n",
    "for i = 1:G\n",
    "    likelihood = mvnpdf(test_data,muhat(i,:),SIGhat(:,:,i));\n",
    "    L = [L likelihood*priorhat(i)];\n",
    "end\n",
    "\n",
    "[~,decisions] = max(L,[],2);\n",
    "test_class_predicted = test_items(decisions);\n",
    "\n",
    "% computation of error rate (Test data)\n",
    "error_rate_test = sum(test_class~=test_class_predicted)/size(test_class,1)\n"
   ]
  },
  {
   "cell_type": "code",
   "execution_count": null,
   "metadata": {},
   "outputs": [],
   "source": []
  }
 ],
 "metadata": {
  "kernelspec": {
   "display_name": "Matlab",
   "language": "matlab",
   "name": "matlab"
  },
  "language_info": {
   "codemirror_mode": "octave",
   "file_extension": ".m",
   "help_links": [
    {
     "text": "MetaKernel Magics",
     "url": "https://github.com/calysto/metakernel/blob/master/metakernel/magics/README.md"
    }
   ],
   "mimetype": "text/x-octave",
   "name": "matlab",
   "version": "0.15.2"
  }
 },
 "nbformat": 4,
 "nbformat_minor": 2
}
