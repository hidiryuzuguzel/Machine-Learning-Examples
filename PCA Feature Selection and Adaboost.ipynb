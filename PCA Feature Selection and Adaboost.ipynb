{
 "cells": [
  {
   "cell_type": "markdown",
   "metadata": {},
   "source": [
    "## Principal Component Analysis"
   ]
  },
  {
   "cell_type": "code",
   "execution_count": 1,
   "metadata": {},
   "outputs": [
    {
     "name": "stdout",
     "output_type": "stream",
     "text": [
      "\n",
      "ans =\n",
      "\n",
      "   2.1244e-13\n",
      "\n",
      "\n"
     ]
    },
    {
     "data": {
      "image/png": "[encoded data removed]",
      "text/plain": [
       "<IPython.core.display.Image object>"
      ]
     },
     "metadata": {},
     "output_type": "display_data"
    }
   ],
   "source": [
    "clear all\n",
    "load RunTimeData.mat\n",
    "[coeff,score,~,~,explained_data] = pca(data);\n",
    "projdata = data*coeff(:,1:2);\n",
    "subplot(121), plot(projdata(:,1),projdata(:,2),'x') , title('Built-in')\n",
    "[eigvec, eigval] = eig(cov(data));\n",
    "pca_data = (eigvec(:,end-1:end)'*data')';   % pca_data = data*eigvec(:,end-1:end)\n",
    "subplot(122), plot(pca_data(:,1),pca_data(:,2),'x') , title('My implementation')\n",
    "sum(sum(abs((bsxfun(@minus,data,mean(data,1)))-score*coeff')))        % should give 0"
   ]
  },
  {
   "cell_type": "markdown",
   "metadata": {},
   "source": [
    "## PCA feature selection and AdaBoost"
   ]
  },
  {
   "cell_type": "markdown",
   "metadata": {},
   "source": [
    "### prepare data"
   ]
  },
  {
   "cell_type": "code",
   "execution_count": null,
   "metadata": {},
   "outputs": [],
   "source": [
    "clear all; clc; \n",
    "load('MEGdata.mat')  \n",
    "\n",
    "idx1 = find(VideoClass==1);\n",
    "idx2 = find(VideoClass==2);\n",
    "\n",
    "data = double( MEGdata([idx1;idx2],:,:));\n",
    "class = double (VideoClass([idx1;idx2]));\n",
    "\n",
    "\n",
    "N = size(class,1);     % Number of samples\n",
    "Ntest = 50;\n",
    "Ntrain = N - Ntest;\n",
    "\n",
    "idx = randperm(N);      \n",
    "trndata = double( data(idx(1:Ntrain),:,:));\n",
    "trnclass = double ( class(idx(1:Ntrain)));\n",
    "\n",
    "NumOfClasses = length(unique(trnclass));\n",
    "\n",
    "\n",
    "testdata = double( data(idx(Ntrain+1:end),:,:) );\n",
    "testclass = double( class(idx(Ntrain+1:end)));\n",
    "\n",
    "trn_feature = [mean(trndata,3) var(trndata,0,3)];\n",
    "test_feature = [mean(testdata,3) var(testdata,0,3)];"
   ]
  },
  {
   "cell_type": "markdown",
   "metadata": {},
   "source": [
    "### pca feature selection"
   ]
  },
  {
   "cell_type": "code",
   "execution_count": null,
   "metadata": {},
   "outputs": [],
   "source": [
    "% [eigvec_trn, eigval_trn] = eig(cov(trn_feature));\n",
    "% [eigvec_test, eigval_test] = eig(cov(test_feature));\n",
    "\n",
    "[coeff_trn,~,~,~,explained_trn] = pca(trn_feature);\n",
    "[coeff_test,~,~,~,explained_test] = pca(test_feature);\n",
    "trn_feature_hat = trn_feature*coeff_trn(:,1:25);\n",
    "test_feature_hat = test_feature*coeff_test(:,1:25);"
   ]
  },
  {
   "cell_type": "markdown",
   "metadata": {},
   "source": [
    "### AdaBoost\n",
    "- Adaboost algorithm using WLSQ (Weighted Least Squares) classifier as base classifier. The weighted least square fit is given by\n",
    "\n",
    "$$\n",
    "\\beta = (X^TWX)^{-1} X^TWy\n",
    "$$\n",
    "\n",
    "where $W$ is diagonal matrix containing data importance weights, $X$ is a matrix containing data training samples and 1 on it's rows, and $y$ is a vector of values 1 and -1 indicating class label."
   ]
  },
  {
   "cell_type": "code",
   "execution_count": null,
   "metadata": {},
   "outputs": [],
   "source": [
    "L = 5;  % boosting round (Number of base learners)\n",
    "w = 1/Ntrain * ones(1,Ntrain);  % initialize weights\n",
    "W = diag(w);                    % diagonal weight matrix\n",
    "beta = zeros(size(trn_feature_hat,2),L);\n",
    "err = 0.1*ones(1,L);    % error rate for each base learners\n",
    "\n",
    "% Training Phase\n",
    "for j=1:L   % for all base learners\n",
    "\n",
    "    % randomly draw X_j from X with probability w_j\n",
    "    randIdx = randsrc(Ntrain,1,[1:Ntrain;w]);\n",
    "    X = trn_feature_hat(randIdx,:);\n",
    "\n",
    "    %true_y = -1*ones(1,Ntrain);     % true class labels\n",
    "    true_trn_y = trnclass(randIdx)';\n",
    "    true_trn_y(true_trn_y==2) = -1;     % Class 1 -> 1, Class2 -> -1\n",
    "    beta(:,j) = ((X'*W*X)\\X')*W*true_trn_y';\n",
    "    predicted_y = sign(X*beta(:,j));\n",
    "    err(j) = sum(w(true_trn_y~=predicted_y'));\n",
    "    if err(j) <= 0 || err(j)>0.5\n",
    "       break; \n",
    "    else\n",
    "        % adjust weights for missclassfified patterns (to increase their importance)\n",
    "        w(true_trn_y~=predicted_y') = w(true_trn_y~=predicted_y')*(1-err(j))/err(j);\n",
    "        w = w./sum(w);  % normalize probabilities\n",
    "        W = diag(w);\n",
    "    end\n",
    "end\n",
    "\n",
    "\n",
    "% Testing Phase\n",
    "predicted_ensemble_y = zeros(Ntest,L);\n",
    "for j=1:L\n",
    "    predicted_ensemble_y(:,j) = sign(test_feature_hat*beta(:,j));\n",
    "end"
   ]
  },
  {
   "cell_type": "markdown",
   "metadata": {},
   "source": [
    "### Aggregating"
   ]
  },
  {
   "cell_type": "code",
   "execution_count": null,
   "metadata": {},
   "outputs": [],
   "source": [
    "predicted_test_y = zeros(Ntest,1);\n",
    "for i=1:Ntest\n",
    "    predicted_test_y(i,:) = sign(sum(log((1-err)./err).*predicted_ensemble_y(i,:)));\n",
    "end\n",
    "\n",
    "true_test_y =  testclass;\n",
    "true_test_y(true_test_y==2) = -1;\n",
    "\n",
    "TestPredAcc = mean(predicted_test_y==true_test_y)"
   ]
  }
 ],
 "metadata": {
  "kernelspec": {
   "display_name": "Matlab",
   "language": "matlab",
   "name": "matlab"
  },
  "language_info": {
   "codemirror_mode": "octave",
   "file_extension": ".m",
   "help_links": [
    {
     "text": "MetaKernel Magics",
     "url": "https://github.com/calysto/metakernel/blob/master/metakernel/magics/README.md"
    }
   ],
   "mimetype": "text/x-octave",
   "name": "matlab",
   "version": "0.15.2"
  }
 },
 "nbformat": 4,
 "nbformat_minor": 2
}
