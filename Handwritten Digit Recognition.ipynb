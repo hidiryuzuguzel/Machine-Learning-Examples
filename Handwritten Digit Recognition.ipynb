{
 "cells": [
  {
   "cell_type": "markdown",
   "metadata": {},
   "source": [
    "# Handwritten digit recognition using nearest mean and k-nearest-neighbour (k-NN) classification\n"
   ]
  },
  {
   "cell_type": "markdown",
   "metadata": {},
   "source": [
    "## read training data from .txt file\n",
    "- Training and test sets for 16×16 handwritten digits (0/1 for off/on pixels respectively) containing 600 examples each, for 10 classes with 60 examples per class"
   ]
  },
  {
   "cell_type": "code",
   "execution_count": 2,
   "metadata": {},
   "outputs": [
    {
     "name": "stdout",
     "output_type": "stream",
     "text": [
      "\n"
     ]
    }
   ],
   "source": [
    "fileID = fopen('outputTrain.txt','r');\n",
    "trainingData = fscanf(fileID,'%d');\n",
    "%trainingData = trainingData';\n",
    "fclose(fileID);"
   ]
  },
  {
   "cell_type": "markdown",
   "metadata": {},
   "source": [
    "## read test data from .txt file"
   ]
  },
  {
   "cell_type": "code",
   "execution_count": 3,
   "metadata": {},
   "outputs": [
    {
     "name": "stdout",
     "output_type": "stream",
     "text": [
      "\n"
     ]
    }
   ],
   "source": [
    "fileID2 = fopen('outputTest.txt','r');\n",
    "testData = fscanf(fileID2,'%d');\n",
    "%testdata = testdata';\n",
    "fclose(fileID2);"
   ]
  },
  {
   "cell_type": "markdown",
   "metadata": {},
   "source": [
    "## creates 600 examples of 16*16 handwritten digits matrices for training data"
   ]
  },
  {
   "cell_type": "code",
   "execution_count": 4,
   "metadata": {},
   "outputs": [
    {
     "name": "stdout",
     "output_type": "stream",
     "text": [
      "\n"
     ]
    }
   ],
   "source": [
    "for i=1:600\n",
    "    trn_label(i) = trainingData(257*i);   % class label\n",
    "    for j=1:16\n",
    "        trnimages(j,:,i) = trainingData(257*(i-1)+16*(j-1)+1:257*(i-1)+16*j);\n",
    "       \n",
    "    end\n",
    "end"
   ]
  },
  {
   "cell_type": "markdown",
   "metadata": {},
   "source": [
    "## creates 600 examples of 16*16 handwritten digits matrices for test data"
   ]
  },
  {
   "cell_type": "code",
   "execution_count": 5,
   "metadata": {},
   "outputs": [
    {
     "name": "stdout",
     "output_type": "stream",
     "text": [
      "\n"
     ]
    }
   ],
   "source": [
    "for i=1:600\n",
    "    test_label(i) = testData(257*i);   % class label\n",
    "    for j=1:16\n",
    "        testimages(j,:,i) = testData(257*(i-1)+16*(j-1)+1:257*(i-1)+16*j);\n",
    "       \n",
    "    end\n",
    "end"
   ]
  },
  {
   "cell_type": "code",
   "execution_count": 6,
   "metadata": {},
   "outputs": [
    {
     "name": "stdout",
     "output_type": "stream",
     "text": [
      "\n"
     ]
    }
   ],
   "source": [
    "for i=1:10\n",
    "    class_index(i,:) = find(trn_label(:)== i-1);\n",
    "end"
   ]
  },
  {
   "cell_type": "markdown",
   "metadata": {},
   "source": [
    "## Nearest-Neighbour\n",
    "- For each class, calculate the average class image over the training set and use it for classification."
   ]
  },
  {
   "cell_type": "code",
   "execution_count": 7,
   "metadata": {},
   "outputs": [
    {
     "name": "stdout",
     "output_type": "stream",
     "text": [
      "\n"
     ]
    }
   ],
   "source": [
    "% compute average image\n",
    "for i=1:10\n",
    "    for j=1:16\n",
    "        for k=1:16\n",
    "            avg_image(j,k,i) = sum(trnimages(j,k,class_index(i,:)))/60;\n",
    "        end\n",
    "    end\n",
    "end\n",
    "\n",
    "for i=1:600\n",
    "    for j=1:10\n",
    "        distances(j) = sum(sum((testimages(:,:,i) - avg_image(:,:,j)).^2));  % test\n",
    "        distances0(j) = sum(sum((trnimages(:,:,i) - avg_image(:,:,j)).^2));  % tranining\n",
    "    end\n",
    "    predict_label_NN(i) = find(min(distances)== distances)-1;       % test\n",
    "    predict_label_NN0(i) = find(min(distances0)== distances0)-1;    % tranining\n",
    "end"
   ]
  },
  {
   "cell_type": "markdown",
   "metadata": {},
   "source": [
    "## compute confusion matrix for NN (training)"
   ]
  },
  {
   "cell_type": "code",
   "execution_count": 8,
   "metadata": {},
   "outputs": [
    {
     "name": "stdout",
     "output_type": "stream",
     "text": [
      "\n",
      "Conf0 =\n",
      "\n",
      "    57     0     0     0     0     3     0     0     0     0\n",
      "     0    57     3     0     0     0     0     0     0     0\n",
      "     0     0    56     3     0     0     0     1     0     0\n",
      "     0     0     0    55     0     5     0     0     0     0\n",
      "     0     0     0     0    56     0     1     0     0     3\n",
      "     0     0     0     6     0    50     1     0     0     3\n",
      "     0     0     0     1     0     0    57     0     2     0\n",
      "     0     0     6     0     0     0     0    53     0     1\n",
      "     0     0     0     0     0     1     0     0    52     7\n",
      "     0     0     0     0     3     0     0     0     2    55\n",
      "\n",
      "\n"
     ]
    }
   ],
   "source": [
    "Conf0 = zeros(10,10);\n",
    "for i=1:600\n",
    "        Conf0(trn_label(i)+1,predict_label_NN0(i)+1) = Conf0(trn_label(i)+1,predict_label_NN0(i)+1)+1;\n",
    "end\n",
    "Conf0"
   ]
  },
  {
   "cell_type": "code",
   "execution_count": 9,
   "metadata": {},
   "outputs": [
    {
     "name": "stdout",
     "output_type": "stream",
     "text": [
      "\n"
     ]
    },
    {
     "data": {
      "image/png": "[encoded data removed]",
      "text/plain": [
       "<IPython.core.display.Image object>"
      ]
     },
     "metadata": {},
     "output_type": "display_data"
    }
   ],
   "source": [
    "figure('Name','Average Images','NumberTitle','off'),\n",
    "for i=1:10\n",
    "    subplot(2,5,i),imshow(avg_image(:,:,i));\n",
    "end"
   ]
  },
  {
   "cell_type": "markdown",
   "metadata": {},
   "source": [
    "## compute confusion matrix for NN (test)"
   ]
  },
  {
   "cell_type": "code",
   "execution_count": 10,
   "metadata": {},
   "outputs": [
    {
     "name": "stdout",
     "output_type": "stream",
     "text": [
      "\n",
      "Conf =\n",
      "\n",
      "    50     0     0     1     0     9     0     0     0     0\n",
      "     0    58     2     0     0     0     0     0     0     0\n",
      "     0     1    50     5     0     0     0     2     1     1\n",
      "     0     0     1    51     0     4     0     3     1     0\n",
      "     0     0     0     0    48     0     3     0     0     9\n",
      "     0     1     0     5     0    51     0     0     0     3\n",
      "     0     0     0     0     0     0    57     0     3     0\n",
      "     0     2     5     0     0     0     0    53     0     0\n",
      "     1     0     0     1     0     2     0     0    49     7\n",
      "     0     1     0     0     2     0     0     4     0    53\n",
      "\n",
      "\n"
     ]
    }
   ],
   "source": [
    "Conf = zeros(10,10);\n",
    "for i=1:600\n",
    "        Conf(test_label(i)+1,predict_label_NN(i)+1) = Conf(test_label(i)+1,predict_label_NN(i)+1)+1;\n",
    "end\n",
    "Conf"
   ]
  },
  {
   "cell_type": "markdown",
   "metadata": {},
   "source": [
    "## k-NN"
   ]
  },
  {
   "cell_type": "code",
   "execution_count": 11,
   "metadata": {},
   "outputs": [
    {
     "name": "stdout",
     "output_type": "stream",
     "text": [
      "\n"
     ]
    }
   ],
   "source": [
    "k = [1 3 5 7 9];\n",
    "A = zeros(length(k),10);\n",
    "A1 = zeros(length(k),10);\n",
    "\n",
    "\n",
    "for e=1:length(k)\n",
    "    for i=1:600\n",
    "        for j=1:600\n",
    "            distances2(i,j) = sum(sum((testimages(:,:,i) - trnimages(:,:,j)).^2));\n",
    "            distances1(i,j) = sum(sum((trnimages(:,:,i) - trnimages(:,:,j)).^2));\n",
    "        end\n",
    "        sorted_distances2(i,:) = sort(distances2(i,:));\n",
    "        sorted_distances1(i,:) = sort(distances1(i,:));\n",
    "    %    category(i,:) = sorted_distances2(i,1:k(e));\n",
    "        for m = 1:k(e)\n",
    "    %        temp = find (category(i,m)==distances2(i,:));\n",
    "            temp = find (sorted_distances2(i,m)==distances2(i,:));\n",
    "            temp1 = find (sorted_distances1(i,m)==distances1(i,:));\n",
    "            A(e,trn_label(temp)+1) = A(e,trn_label(temp)+1) +1 ;\n",
    "            A1(e,trn_label(temp1)+1) = A1(e,trn_label(temp1)+1) +1 ;\n",
    "        end\n",
    "      [val,ind] = max(A(e,:));\n",
    "      [val0,ind0] = max(A1(e,:));\n",
    "      predict_label_kNN(e,i) = ind - 1;\n",
    "      predict_label_kNN0(e,i) = ind0 - 1;\n",
    "      A = zeros(length(k),10);\n",
    "      A1 = zeros(length(k),10);\n",
    "    end\n",
    " \n",
    "end"
   ]
  },
  {
   "cell_type": "markdown",
   "metadata": {},
   "source": [
    "## compute confusion matrix for k-NN (training)"
   ]
  },
  {
   "cell_type": "code",
   "execution_count": 12,
   "metadata": {},
   "outputs": [
    {
     "name": "stdout",
     "output_type": "stream",
     "text": [
      "\n",
      "Conf1(:,:,1) =\n",
      "\n",
      "    60     0     0     0     0     0     0     0     0     0\n",
      "     0    60     0     0     0     0     0     0     0     0\n",
      "     0     0    60     0     0     0     0     0     0     0\n",
      "     0     0     0    60     0     0     0     0     0     0\n",
      "     0     0     0     0    60     0     0     0     0     0\n",
      "     0     0     0     0     0    60     0     0     0     0\n",
      "     0     0     0     0     0     0    60     0     0     0\n",
      "     0     0     0     0     0     0     0    60     0     0\n",
      "     0     0     0     0     0     0     0     0    60     0\n",
      "     0     0     0     0     0     0     0     0     0    60\n",
      "\n",
      "\n",
      "Conf1(:,:,2) =\n",
      "\n",
      "    60     0     0     0     0     0     0     0     0     0\n",
      "     0    60     0     0     0     0     0     0     0     0\n",
      "     0     0    59     0     0     0     0     1     0     0\n",
      "     0     0     0    60     0     0     0     0     0     0\n",
      "     0     1     0     0    56     0     0     0     0     3\n",
      "     0     0     0     0     0    59     1     0     0     0\n",
      "     0     0     0     0     0     0    60     0     0     0\n",
      "     0     1     0     0     0     0     0    59     0     0\n",
      "     0     0     1     2     0     2     0     0    55     0\n",
      "     0     0     1     0     0     0     0     1     0    58\n",
      "\n",
      "\n",
      "Conf1(:,:,3) =\n",
      "\n",
      "    60     0     0     0     0     0     0     0     0     0\n",
      "     0    59     0     0     0     0     0     1     0     0\n",
      "     0     0    59     0     0     0     0     1     0     0\n",
      "     0     0     0    60     0     0     0     0     0     0\n",
      "     0     0     0     0    59     0     0     0     0     1\n",
      "     0     0     0     0     0    59     1     0     0     0\n",
      "     0     0     0     0     0     0    60     0     0     0\n",
      "     0     1     0     0     0     0     0    59     0     0\n",
      "     0     0     1     4     0     3     1     0    50     1\n",
      "     0     1     1     0     0     0     0     2     0    56\n",
      "\n",
      "\n",
      "Conf1(:,:,4) =\n",
      "\n",
      "    60     0     0     0     0     0     0     0     0     0\n",
      "     0    57     0     0     0     0     0     3     0     0\n",
      "     0     0    58     0     0     0     0     2     0     0\n",
      "     0     0     0    60     0     0     0     0     0     0\n",
      "     0     0     0     0    57     0     0     0     0     3\n",
      "     0     0     0     0     0    59     1     0     0     0\n",
      "     0     0     0     0     0     0    60     0     0     0\n",
      "     0     0     0     0     0     0     0    60     0     0\n",
      "     0     0     1     5     0     2     0     1    49     2\n",
      "     0     1     0     0     0     0     0     4     0    55\n",
      "\n",
      "\n",
      "Conf1(:,:,5) =\n",
      "\n",
      "    59     0     0     0     0     0     0     1     0     0\n",
      "     0    56     0     0     0     0     0     4     0     0\n",
      "     0     0    58     0     0     0     0     2     0     0\n",
      "     0     0     0    60     0     0     0     0     0     0\n",
      "     0     0     0     0    55     0     0     1     0     4\n",
      "     0     0     0     0     0    59     1     0     0     0\n",
      "     0     0     0     1     0     0    59     0     0     0\n",
      "     0     0     0     0     0     0     0    59     0     1\n",
      "     0     0     1     6     0     2     0     1    48     2\n",
      "     0     0     0     0     0     0     0     5     0    55\n",
      "\n",
      "\n"
     ]
    }
   ],
   "source": [
    "Conf1 = zeros(10,10,length(k));\n",
    "for e=1:length(k)\n",
    "    for i=1:600\n",
    "        Conf1(trn_label(i)+1,predict_label_kNN0(e,i)+1,e) = Conf1(trn_label(i)+1,predict_label_kNN0(e,i)+1,e)+1;\n",
    "    end\n",
    "end\n",
    "Conf1                  "
   ]
  },
  {
   "cell_type": "markdown",
   "metadata": {},
   "source": [
    "## compute confusion matrix for k-NN (test)"
   ]
  },
  {
   "cell_type": "code",
   "execution_count": 13,
   "metadata": {},
   "outputs": [
    {
     "name": "stdout",
     "output_type": "stream",
     "text": [
      "\n",
      "Conf2(:,:,1) =\n",
      "\n",
      "    59     0     0     0     0     0     1     0     0     0\n",
      "     0    60     0     0     0     0     0     0     0     0\n",
      "     0     0    58     0     0     0     0     2     0     0\n",
      "     0     0     1    59     0     0     0     0     0     0\n",
      "     0     5     1     0    47     0     0     0     0     7\n",
      "     0     1     0     1     0    55     3     0     0     0\n",
      "     1     0     0     0     0     0    59     0     0     0\n",
      "     0     2     0     0     0     0     0    58     0     0\n",
      "     1     0     2     4     0     2     0     0    50     1\n",
      "     0     0     0     0     1     0     0     5     0    54\n",
      "\n",
      "\n",
      "Conf2(:,:,2) =\n",
      "\n",
      "    59     0     0     0     0     0     1     0     0     0\n",
      "     0    60     0     0     0     0     0     0     0     0\n",
      "     0     0    58     0     0     0     0     2     0     0\n",
      "     0     0     1    58     0     1     0     0     0     0\n",
      "     0     5     0     0    49     0     0     0     0     6\n",
      "     0     1     0     2     0    55     2     0     0     0\n",
      "     1     0     0     0     0     0    59     0     0     0\n",
      "     0     1     0     0     0     0     0    59     0     0\n",
      "     2     0     1     4     0     2     0     0    51     0\n",
      "     0     0     0     0     1     0     0     4     0    55\n",
      "\n",
      "\n",
      "Conf2(:,:,3) =\n",
      "\n",
      "    57     0     0     0     0     0     3     0     0     0\n",
      "     0    59     0     0     0     0     0     1     0     0\n",
      "     0     0    58     0     0     0     0     2     0     0\n",
      "     0     0     1    58     0     1     0     0     0     0\n",
      "     0     5     0     0    48     0     0     0     0     7\n",
      "     0     1     0     2     0    55     2     0     0     0\n",
      "     1     0     0     0     0     0    59     0     0     0\n",
      "     0     1     0     0     0     0     0    59     0     0\n",
      "     1     0     3     3     0     2     0     0    50     1\n",
      "     0     2     0     0     1     0     0     5     0    52\n",
      "\n",
      "\n",
      "Conf2(:,:,4) =\n",
      "\n",
      "    58     0     0     0     0     0     2     0     0     0\n",
      "     0    59     0     0     0     0     0     1     0     0\n",
      "     0     0    58     0     0     0     0     2     0     0\n",
      "     0     0     2    58     0     0     0     0     0     0\n",
      "     0     6     0     0    45     0     1     1     0     7\n",
      "     0     1     0     2     0    56     1     0     0     0\n",
      "     1     0     0     0     0     0    59     0     0     0\n",
      "     0     1     0     0     0     0     0    59     0     0\n",
      "     2     0     2     4     0     2     0     0    50     0\n",
      "     0     2     1     0     2     0     0     5     0    50\n",
      "\n",
      "\n",
      "Conf2(:,:,5) =\n",
      "\n",
      "    58     0     0     0     0     0     2     0     0     0\n",
      "     0    58     0     0     0     0     0     2     0     0\n",
      "     0     1    58     0     0     0     0     1     0     0\n",
      "     0     0     1    59     0     0     0     0     0     0\n",
      "     0     5     0     0    46     0     0     2     0     7\n",
      "     0     2     0     3     0    54     1     0     0     0\n",
      "     1     0     0     0     0     0    59     0     0     0\n",
      "     0     1     1     0     0     0     0    58     0     0\n",
      "     2     0     3     4     0     2     0     0    49     0\n",
      "     1     1     1     0     1     0     0     5     0    51\n",
      "\n",
      "\n"
     ]
    }
   ],
   "source": [
    "Conf2 = zeros(10,10,length(k));\n",
    "for e=1:length(k)\n",
    "    for i=1:600\n",
    "        Conf2(test_label(i)+1,predict_label_kNN(e,i)+1,e) = Conf2(test_label(i)+1,predict_label_kNN(e,i)+1,e)+1;\n",
    "    end\n",
    "end\n",
    "Conf2 "
   ]
  }
 ],
 "metadata": {
  "kernelspec": {
   "display_name": "Matlab",
   "language": "matlab",
   "name": "matlab"
  },
  "language_info": {
   "codemirror_mode": "octave",
   "file_extension": ".m",
   "help_links": [
    {
     "text": "MetaKernel Magics",
     "url": "https://github.com/calysto/metakernel/blob/master/metakernel/magics/README.md"
    }
   ],
   "mimetype": "text/x-octave",
   "name": "matlab",
   "version": "0.15.2"
  }
 },
 "nbformat": 4,
 "nbformat_minor": 2
}
