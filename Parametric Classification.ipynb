{
 "cells": [
  {
   "cell_type": "markdown",
   "metadata": {},
   "source": [
    "The data is the given in the form of (x^t, r^t) where x is the input and r is class code (1 or 2). The code builds a classifier assuming Gaussian densities:\n",
    "\n",
    "- Estimate parameters of the fitted Gaussians p(x | C_i) and the priors p(C_i) where i is the index of class code\n",
    "- Plot p(x | C_i) and p(C_i | x) \n",
    "- Use the trained model on the test data and calculate the total number of misclassifications"
   ]
  },
  {
   "cell_type": "markdown",
   "metadata": {},
   "source": [
    "## read training data from .txt file"
   ]
  },
  {
   "cell_type": "code",
   "execution_count": 1,
   "metadata": {},
   "outputs": [
    {
     "name": "stdout",
     "output_type": "stream",
     "text": [
      "\n"
     ]
    }
   ],
   "source": [
    "fileID = fopen('trainingdata.txt','r');\n",
    "trainingData = fscanf(fileID,'%e %e',[2 inf]);\n",
    "trainingData = trainingData';\n",
    "fclose(fileID);"
   ]
  },
  {
   "cell_type": "markdown",
   "metadata": {},
   "source": [
    "## read test data from .txt file"
   ]
  },
  {
   "cell_type": "code",
   "execution_count": 2,
   "metadata": {},
   "outputs": [
    {
     "name": "stdout",
     "output_type": "stream",
     "text": [
      "\n"
     ]
    }
   ],
   "source": [
    "fileID2 = fopen('testdata.txt','r');\n",
    "testdata = fscanf(fileID2,'%e %e',[2 inf]);\n",
    "testdata = testdata';\n",
    "fclose(fileID2);"
   ]
  },
  {
   "cell_type": "markdown",
   "metadata": {},
   "source": [
    "## classify into two classes:class1 & class2"
   ]
  },
  {
   "cell_type": "code",
   "execution_count": 3,
   "metadata": {},
   "outputs": [
    {
     "name": "stdout",
     "output_type": "stream",
     "text": [
      "\n"
     ]
    }
   ],
   "source": [
    "trn = trainingData(:,1);\n",
    "class1_index = find(trainingData(:,2)==1);\n",
    "class1 = trn(class1_index);\n",
    "class2_index = find(trainingData(:,2)==2);\n",
    "class2 = trn(class2_index);"
   ]
  },
  {
   "cell_type": "markdown",
   "metadata": {},
   "source": [
    "## Training Phase"
   ]
  },
  {
   "cell_type": "code",
   "execution_count": 4,
   "metadata": {},
   "outputs": [
    {
     "name": "stdout",
     "output_type": "stream",
     "text": [
      "\n"
     ]
    }
   ],
   "source": [
    "% compute parameters of fitted gaussians\n",
    "[meanClass1,sigmaClass1] = normfit(class1);\n",
    "[meanClass2,sigmaClass2] = normfit(class2);\n",
    "%sigmaClass2 = sigmaClass1;\n",
    "\n",
    "% compute likelihood P(x|C_i)\n",
    "Range = 0:0.0001:10;\n",
    "likelihood1 = normpdf(Range,meanClass1,sigmaClass1);\n",
    "likelihood2 = normpdf(Range,meanClass2,sigmaClass2);\n",
    "% likelihoodClass1 = normpdf(class1,meanClass1,sigmaClass1);\n",
    "% likelihoodClass2 = normpdf(class2,meanClass2,sigmaClass2);\n",
    "\n",
    "% compute priors P(C_i)\n",
    "priorClass1 = length(class1)/length(trainingData(:,2));\n",
    "priorClass2 = length(class2)/length(trainingData(:,2));\n",
    "\n",
    "evidence = likelihood1*priorClass1 + likelihood2*priorClass2;\n",
    "\n",
    "% compute posterior  P(C_i|x)\n",
    "posteriorClass1 = likelihood1 .* priorClass1./evidence;\n",
    "posteriorClass2 = likelihood2 .* priorClass2./evidence;"
   ]
  },
  {
   "cell_type": "code",
   "execution_count": 5,
   "metadata": {},
   "outputs": [
    {
     "name": "stdout",
     "output_type": "stream",
     "text": [
      "\n"
     ]
    },
    {
     "data": {
      "image/png": "[encoded data removed]",
      "text/plain": [
       "<IPython.core.display.Image object>"
      ]
     },
     "metadata": {},
     "output_type": "display_data"
    }
   ],
   "source": [
    "col = 'brgm';\n",
    "f=figure('Name','Prior and Posterior Probability','NumberTitle','off');\n",
    "plot(Range,likelihood1,col(1),Range,likelihood2,col(2),...\n",
    "    Range,posteriorClass1,col(3),Range,posteriorClass2,col(4));\n",
    "title('Prior and Posterior Probability');\n",
    "hleg = legend('Likelihood1','Likelihood2','Posterior1','Posterior2');\n",
    "set(hleg,'FontAngle','italic','TextColor',[.3,.2,.1])"
   ]
  },
  {
   "cell_type": "markdown",
   "metadata": {},
   "source": [
    "## Testing phase"
   ]
  },
  {
   "cell_type": "code",
   "execution_count": 6,
   "metadata": {},
   "outputs": [
    {
     "name": "stdout",
     "output_type": "stream",
     "text": [
      "\n"
     ]
    }
   ],
   "source": [
    "testresult = testdata;\n",
    "\n",
    "for i=1:length(testdata(:,1))\n",
    "    \n",
    "    p1 = normpdf(testdata(i,1),meanClass1,sigmaClass1)*priorClass1./evidence;\n",
    "    p2 = normpdf(testdata(i,1),meanClass2,sigmaClass2)*priorClass2./evidence;\n",
    "    if p1>p2\n",
    "        testresult(i,3) = 1;\n",
    "    else\n",
    "        testresult(i,3) = 2;\n",
    "    end\n",
    "end"
   ]
  },
  {
   "cell_type": "markdown",
   "metadata": {},
   "source": [
    "## computation of misclassification"
   ]
  },
  {
   "cell_type": "code",
   "execution_count": 7,
   "metadata": {},
   "outputs": [
    {
     "name": "stdout",
     "output_type": "stream",
     "text": [
      "\n"
     ]
    }
   ],
   "source": [
    "dat = zeros(2,2);\n",
    "for i=1:length(testresult(:,2))\n",
    "    if testresult(i,2)== 1\n",
    "        if testresult(i,3) == 1\n",
    "            dat(1,1) = dat(1,1) + 1;\n",
    "        else\n",
    "            dat(2,1) = dat(2,1) +1;\n",
    "        end\n",
    "    else\n",
    "        if testresult(i,3) == 1\n",
    "            dat(1,2) = dat(1,2) + 1;\n",
    "        else\n",
    "            dat(2,2) = dat(2,2) +1;\n",
    "        end\n",
    "    end\n",
    "end"
   ]
  },
  {
   "cell_type": "code",
   "execution_count": 9,
   "metadata": {},
   "outputs": [
    {
     "name": "stdout",
     "output_type": "stream",
     "text": [
      "\n",
      "dat =\n",
      "\n",
      "    16     3\n",
      "     4    27\n",
      "\n",
      "\n"
     ]
    }
   ],
   "source": [
    "dat"
   ]
  }
 ],
 "metadata": {
  "kernelspec": {
   "display_name": "Matlab",
   "language": "matlab",
   "name": "matlab"
  },
  "language_info": {
   "codemirror_mode": "octave",
   "file_extension": ".m",
   "help_links": [
    {
     "text": "MetaKernel Magics",
     "url": "https://github.com/calysto/metakernel/blob/master/metakernel/magics/README.md"
    }
   ],
   "mimetype": "text/x-octave",
   "name": "matlab",
   "version": "0.15.2"
  }
 },
 "nbformat": 4,
 "nbformat_minor": 2
}
